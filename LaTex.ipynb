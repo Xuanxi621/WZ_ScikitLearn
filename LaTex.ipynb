{
 "cells": [
  {
   "cell_type": "markdown",
   "id": "1a84a295-df8d-4bb7-9264-82ac78419af7",
   "metadata": {},
   "source": [
    "$$a^5$$"
   ]
  },
  {
   "cell_type": "markdown",
   "id": "a8b2b282-a538-483f-ac28-88d5098be16e",
   "metadata": {},
   "source": [
    "$$ \\int_{\\infty}^{+\\infty}{(x^2+3)dx} \\beta $$"
   ]
  },
  {
   "cell_type": "markdown",
   "id": "a3f01681-c52a-4c13-82e1-799d354d5081",
   "metadata": {},
   "source": [
    "$$ \\int_{\\infty}^{+\\infty}{}dx $$"
   ]
  },
  {
   "cell_type": "markdown",
   "id": "b0f1ee95-9021-42f1-aab7-a7674504501d",
   "metadata": {},
   "source": [
    "$$ a^2 + b^3 = 20$$"
   ]
  },
  {
   "cell_type": "markdown",
   "id": "b37948c9-13e8-4a8b-9df0-5684fe72c739",
   "metadata": {},
   "source": [
    "$$ \\theta a_i$$"
   ]
  },
  {
   "cell_type": "markdown",
   "id": "10b2a69c-f096-441d-84f1-feb0d82089d9",
   "metadata": {},
   "source": [
    "$$ \\theta $$"
   ]
  },
  {
   "cell_type": "markdown",
   "id": "60b935ce-046c-42c8-9e81-925d3087aa55",
   "metadata": {},
   "source": [
    "$$ \\alpha $$"
   ]
  },
  {
   "cell_type": "markdown",
   "id": "3262581b-cd6d-4d68-b9b2-7c91284b927a",
   "metadata": {},
   "source": [
    "$$ \\omega $$"
   ]
  },
  {
   "cell_type": "markdown",
   "id": "e65525e1-685f-4582-b906-c79dcab74c08",
   "metadata": {},
   "source": [
    "## $$ \\theta = (x^Tx)^{-1}x^Ty $$"
   ]
  },
  {
   "cell_type": "markdown",
   "id": "c18cb941-1a7c-49bb-a52d-be8a98f7ed75",
   "metadata": {},
   "source": []
  },
  {
   "cell_type": "markdown",
   "id": "e5eb51e6-85f7-4eea-9599-46b5253edb27",
   "metadata": {},
   "source": [
    "| Syntax      | Description | Test Text     |\n",
    "| :---        |    :----:   |          ---: |\n",
    "| Header      | Title       | Here's this   |\n",
    "| Paragraph   | Text        | And more      |"
   ]
  },
  {
   "cell_type": "code",
   "execution_count": null,
   "id": "31f97949-1193-439e-83b6-fde8a0ea6f71",
   "metadata": {},
   "outputs": [],
   "source": []
  }
 ],
 "metadata": {
  "kernelspec": {
   "display_name": "Python 3 (ipykernel)",
   "language": "python",
   "name": "python3"
  },
  "language_info": {
   "codemirror_mode": {
    "name": "ipython",
    "version": 3
   },
   "file_extension": ".py",
   "mimetype": "text/x-python",
   "name": "python",
   "nbconvert_exporter": "python",
   "pygments_lexer": "ipython3",
   "version": "3.9.5"
  }
 },
 "nbformat": 4,
 "nbformat_minor": 5
}
