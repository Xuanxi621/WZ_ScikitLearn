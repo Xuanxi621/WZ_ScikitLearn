{
 "cells": [
  {
   "cell_type": "code",
   "execution_count": 43,
   "id": "24df458d-79a3-4858-b2f9-279917ff43d9",
   "metadata": {},
   "outputs": [],
   "source": [
    "import numpy as np\n",
    "import matplotlib.pyplot as plt\n",
    "from matplotlib.ticker import MaxNLocator\n",
    "import pandas as pd\n",
    "from sklearn.model_selection import train_test_split\n",
    "from sklearn.datasets import load_iris\n",
    "from sklearn.preprocessing import StandardScaler"
   ]
  },
  {
   "cell_type": "code",
   "execution_count": 34,
   "id": "770cc99c-c935-4c79-be63-2bfb35d3d28f",
   "metadata": {},
   "outputs": [],
   "source": [
    "iris_data = load_iris()\n",
    "X = iris_data.data\n",
    "y = iris_data.target"
   ]
  },
  {
   "cell_type": "code",
   "execution_count": 36,
   "id": "1e8c8111-98f7-4100-a017-9a4487d67c82",
   "metadata": {},
   "outputs": [
    {
     "data": {
      "text/plain": [
       "(150, 4)"
      ]
     },
     "execution_count": 36,
     "metadata": {},
     "output_type": "execute_result"
    }
   ],
   "source": [
    "X.shape"
   ]
  },
  {
   "cell_type": "code",
   "execution_count": 39,
   "id": "ebfc155d-d287-46bd-a130-f919ba5717fd",
   "metadata": {},
   "outputs": [
    {
     "data": {
      "text/plain": [
       "array([5.1, 3.5, 1.4, 0.2])"
      ]
     },
     "execution_count": 39,
     "metadata": {},
     "output_type": "execute_result"
    }
   ],
   "source": [
    "X[0]"
   ]
  },
  {
   "cell_type": "code",
   "execution_count": 40,
   "id": "526aa471-73b4-4797-a6f1-f36cdf8f3ccf",
   "metadata": {},
   "outputs": [
    {
     "data": {
      "text/plain": [
       "(150,)"
      ]
     },
     "execution_count": 40,
     "metadata": {},
     "output_type": "execute_result"
    }
   ],
   "source": [
    "y.shape"
   ]
  },
  {
   "cell_type": "code",
   "execution_count": 41,
   "id": "070d4d20-e9aa-4e89-a434-d6c62265c959",
   "metadata": {},
   "outputs": [
    {
     "data": {
      "text/plain": [
       "0"
      ]
     },
     "execution_count": 41,
     "metadata": {},
     "output_type": "execute_result"
    }
   ],
   "source": [
    "y[0]"
   ]
  },
  {
   "cell_type": "code",
   "execution_count": 5,
   "id": "3d199038-e808-47dd-85a2-dbd0fbe1d870",
   "metadata": {},
   "outputs": [
    {
     "data": {
      "text/html": [
       "<div>\n",
       "<style scoped>\n",
       "    .dataframe tbody tr th:only-of-type {\n",
       "        vertical-align: middle;\n",
       "    }\n",
       "\n",
       "    .dataframe tbody tr th {\n",
       "        vertical-align: top;\n",
       "    }\n",
       "\n",
       "    .dataframe thead th {\n",
       "        text-align: right;\n",
       "    }\n",
       "</style>\n",
       "<table border=\"1\" class=\"dataframe\">\n",
       "  <thead>\n",
       "    <tr style=\"text-align: right;\">\n",
       "      <th></th>\n",
       "      <th>Avg. Area Income</th>\n",
       "      <th>Avg. Area House Age</th>\n",
       "      <th>Avg. Area Number of Rooms</th>\n",
       "      <th>Avg. Area Number of Bedrooms</th>\n",
       "      <th>Area Population</th>\n",
       "      <th>Price</th>\n",
       "    </tr>\n",
       "  </thead>\n",
       "  <tbody>\n",
       "    <tr>\n",
       "      <th>0</th>\n",
       "      <td>79545.458574</td>\n",
       "      <td>5.682861</td>\n",
       "      <td>7.009188</td>\n",
       "      <td>4.09</td>\n",
       "      <td>23086.800503</td>\n",
       "      <td>1.059034e+06</td>\n",
       "    </tr>\n",
       "    <tr>\n",
       "      <th>1</th>\n",
       "      <td>79248.642455</td>\n",
       "      <td>6.002900</td>\n",
       "      <td>6.730821</td>\n",
       "      <td>3.09</td>\n",
       "      <td>40173.072174</td>\n",
       "      <td>1.505891e+06</td>\n",
       "    </tr>\n",
       "    <tr>\n",
       "      <th>2</th>\n",
       "      <td>61287.067179</td>\n",
       "      <td>5.865890</td>\n",
       "      <td>8.512727</td>\n",
       "      <td>5.13</td>\n",
       "      <td>36882.159400</td>\n",
       "      <td>1.058988e+06</td>\n",
       "    </tr>\n",
       "    <tr>\n",
       "      <th>3</th>\n",
       "      <td>63345.240046</td>\n",
       "      <td>7.188236</td>\n",
       "      <td>5.586729</td>\n",
       "      <td>3.26</td>\n",
       "      <td>34310.242831</td>\n",
       "      <td>1.260617e+06</td>\n",
       "    </tr>\n",
       "    <tr>\n",
       "      <th>4</th>\n",
       "      <td>59982.197226</td>\n",
       "      <td>5.040555</td>\n",
       "      <td>7.839388</td>\n",
       "      <td>4.23</td>\n",
       "      <td>26354.109472</td>\n",
       "      <td>6.309435e+05</td>\n",
       "    </tr>\n",
       "  </tbody>\n",
       "</table>\n",
       "</div>"
      ],
      "text/plain": [
       "   Avg. Area Income  Avg. Area House Age  Avg. Area Number of Rooms  \\\n",
       "0      79545.458574             5.682861                   7.009188   \n",
       "1      79248.642455             6.002900                   6.730821   \n",
       "2      61287.067179             5.865890                   8.512727   \n",
       "3      63345.240046             7.188236                   5.586729   \n",
       "4      59982.197226             5.040555                   7.839388   \n",
       "\n",
       "   Avg. Area Number of Bedrooms  Area Population         Price  \n",
       "0                          4.09     23086.800503  1.059034e+06  \n",
       "1                          3.09     40173.072174  1.505891e+06  \n",
       "2                          5.13     36882.159400  1.058988e+06  \n",
       "3                          3.26     34310.242831  1.260617e+06  \n",
       "4                          4.23     26354.109472  6.309435e+05  "
      ]
     },
     "execution_count": 5,
     "metadata": {},
     "output_type": "execute_result"
    }
   ],
   "source": [
    "lines = pd.read_csv('USA_Housing.csv')\n",
    "lines.head()"
   ]
  },
  {
   "cell_type": "code",
   "execution_count": 6,
   "id": "d24026c0-e1f9-49ef-88c7-7e28b22911ef",
   "metadata": {},
   "outputs": [],
   "source": [
    "lines_np = np.loadtxt('USA_Housing.csv',delimiter=',',dtype='str')"
   ]
  },
  {
   "cell_type": "code",
   "execution_count": 9,
   "id": "d9c2ed8c-db6e-41cb-91f8-8e9eb951cf2a",
   "metadata": {},
   "outputs": [
    {
     "data": {
      "text/plain": [
       "array(['Avg. Area Income', 'Avg. Area House Age',\n",
       "       'Avg. Area Number of Rooms', 'Avg. Area Number of Bedrooms',\n",
       "       'Area Population', 'Price'], dtype='<U28')"
      ]
     },
     "execution_count": 9,
     "metadata": {},
     "output_type": "execute_result"
    }
   ],
   "source": [
    "lines_np[0]"
   ]
  },
  {
   "cell_type": "code",
   "execution_count": 12,
   "id": "47f75266-15ff-4b1b-9f69-72aeeb2f63f9",
   "metadata": {},
   "outputs": [
    {
     "data": {
      "text/plain": [
       "Index(['Avg. Area Income', 'Avg. Area House Age', 'Avg. Area Number of Rooms',\n",
       "       'Avg. Area Number of Bedrooms', 'Area Population', 'Price'],\n",
       "      dtype='object')"
      ]
     },
     "execution_count": 12,
     "metadata": {},
     "output_type": "execute_result"
    }
   ],
   "source": [
    "lines.columns"
   ]
  },
  {
   "cell_type": "code",
   "execution_count": 13,
   "id": "a2345b67-91d1-4982-b716-87ba3e116e2f",
   "metadata": {},
   "outputs": [
    {
     "data": {
      "text/plain": [
       "'Avg. Area Income,Avg. Area House Age,Avg. Area Number of Rooms,Avg. Area Number of Bedrooms,Area Population'"
      ]
     },
     "execution_count": 13,
     "metadata": {},
     "output_type": "execute_result"
    }
   ],
   "source": [
    "','.join(lines_np[0][:-1])"
   ]
  },
  {
   "cell_type": "code",
   "execution_count": 21,
   "id": "c5e9afe3-8197-477b-893d-5bde7e7cc8ec",
   "metadata": {},
   "outputs": [
    {
     "data": {
      "text/plain": [
       "array([['79545.4585743168', '5.6828613216', '7.0091881428', '4.09',\n",
       "        '23086.8005026865', '1059033.55787012'],\n",
       "       ['79248.6424548257', '6.0028998083', '6.7308210191', '3.09',\n",
       "        '40173.0721736448', '1505890.91484695'],\n",
       "       ['61287.0671786568', '5.8658898403', '8.5127274304', '5.13',\n",
       "        '36882.1593997046', '1058987.98787608'],\n",
       "       ...,\n",
       "       ['63390.6868855046', '7.2505906148', '4.8050809803', '2.13',\n",
       "        '33266.1454896522', '1030729.58315229'],\n",
       "       ['68001.331235087', '5.5343884162', '7.1301438643', '5.44',\n",
       "        '42625.6201558509', '1198656.87240769'],\n",
       "       ['65510.5818036662', '5.9923053073', '6.7923361044', '4.07',\n",
       "        '46501.2838031416', '1298950.48026696']], dtype='<U28')"
      ]
     },
     "execution_count": 21,
     "metadata": {},
     "output_type": "execute_result"
    }
   ],
   "source": [
    "lines_np[1:]"
   ]
  },
  {
   "cell_type": "code",
   "execution_count": 17,
   "id": "3fdfe9f2-d1ac-4509-b0c2-8bb964f4102a",
   "metadata": {},
   "outputs": [
    {
     "data": {
      "text/plain": [
       "array([[7.95454586e+04, 5.68286132e+00, 7.00918814e+00, 4.09000000e+00,\n",
       "        2.30868005e+04, 1.05903356e+06],\n",
       "       [7.92486425e+04, 6.00289981e+00, 6.73082102e+00, 3.09000000e+00,\n",
       "        4.01730722e+04, 1.50589091e+06],\n",
       "       [6.12870672e+04, 5.86588984e+00, 8.51272743e+00, 5.13000000e+00,\n",
       "        3.68821594e+04, 1.05898799e+06],\n",
       "       ...,\n",
       "       [6.33906869e+04, 7.25059061e+00, 4.80508098e+00, 2.13000000e+00,\n",
       "        3.32661455e+04, 1.03072958e+06],\n",
       "       [6.80013312e+04, 5.53438842e+00, 7.13014386e+00, 5.44000000e+00,\n",
       "        4.26256202e+04, 1.19865687e+06],\n",
       "       [6.55105818e+04, 5.99230531e+00, 6.79233610e+00, 4.07000000e+00,\n",
       "        4.65012838e+04, 1.29895048e+06]])"
      ]
     },
     "execution_count": 17,
     "metadata": {},
     "output_type": "execute_result"
    }
   ],
   "source": [
    "lines_np[1:].astype(float)"
   ]
  },
  {
   "cell_type": "code",
   "execution_count": 42,
   "id": "3faa8bd6-c4b8-452a-9d3d-154329e9576c",
   "metadata": {},
   "outputs": [],
   "source": [
    "ratio = .8\n",
    "split = int(len(lines) * ratio)\n",
    "np.random.seed(10)\n",
    "lines = np.random.permutation(lines)\n",
    "train,test = lines[:split],lines[split:]"
   ]
  },
  {
   "cell_type": "code",
   "execution_count": 45,
   "id": "2ae6e56a-1ab1-4308-87b0-42190b0d9423",
   "metadata": {},
   "outputs": [],
   "source": [
    "scaler = StandardScaler()\n",
    "scaler.fit(train)\n",
    "train = scaler.transform(train)\n",
    "test = scaler.transform(test)"
   ]
  },
  {
   "cell_type": "code",
   "execution_count": 52,
   "id": "5ae55c64-d716-4dd8-8326-edc01aae9180",
   "metadata": {},
   "outputs": [
    {
     "data": {
      "text/plain": [
       "array([[ 0.80952995, -0.71551591, -0.03989153,  0.42056418, -0.68067727,\n",
       "        -0.32214064],\n",
       "       [ 0.12132748, -0.99727435,  0.87976377, -0.65119549, -0.11120307,\n",
       "         0.26931764],\n",
       "       [-0.5630431 , -0.29742143, -0.12563275,  0.21757939,  0.04709977,\n",
       "        -0.50493922],\n",
       "       ...,\n",
       "       [ 0.08941268, -0.62548994,  0.4219995 ,  1.95512916, -2.19503617,\n",
       "        -1.11820591],\n",
       "       [-2.63898855,  0.92205681, -0.40845475, -0.67555366,  0.98067475,\n",
       "        -1.2264865 ],\n",
       "       [-0.14639708,  0.92513613, -0.4960478 , -1.24391106, -0.88656616,\n",
       "        -0.09253   ]])"
      ]
     },
     "execution_count": 52,
     "metadata": {},
     "output_type": "execute_result"
    }
   ],
   "source": [
    "train"
   ]
  },
  {
   "cell_type": "code",
   "execution_count": 51,
   "id": "6d769140-2716-42a9-bbc8-ecfcde0b06d5",
   "metadata": {},
   "outputs": [
    {
     "data": {
      "text/plain": [
       "array([[ 0.80952995, -0.71551591, -0.03989153,  0.42056418, -0.68067727],\n",
       "       [ 0.12132748, -0.99727435,  0.87976377, -0.65119549, -0.11120307],\n",
       "       [-0.5630431 , -0.29742143, -0.12563275,  0.21757939,  0.04709977],\n",
       "       ...,\n",
       "       [ 0.08941268, -0.62548994,  0.4219995 ,  1.95512916, -2.19503617],\n",
       "       [-2.63898855,  0.92205681, -0.40845475, -0.67555366,  0.98067475],\n",
       "       [-0.14639708,  0.92513613, -0.4960478 , -1.24391106, -0.88656616]])"
      ]
     },
     "execution_count": 51,
     "metadata": {},
     "output_type": "execute_result"
    }
   ],
   "source": [
    "train[:,:-1]"
   ]
  },
  {
   "cell_type": "code",
   "execution_count": 58,
   "id": "7c5a4059-863b-4a21-8e07-40145c791239",
   "metadata": {},
   "outputs": [
    {
     "data": {
      "text/plain": [
       "(4000,)"
      ]
     },
     "execution_count": 58,
     "metadata": {},
     "output_type": "execute_result"
    }
   ],
   "source": [
    "train[:,-1].shape"
   ]
  },
  {
   "cell_type": "code",
   "execution_count": 61,
   "id": "4c45f48b-12e5-4a9c-97bd-2ff90760c1a6",
   "metadata": {},
   "outputs": [
    {
     "data": {
      "text/plain": [
       "array([-0.32214064,  0.26931764, -0.50493922, ..., -1.11820591,\n",
       "       -1.2264865 , -0.09253   ])"
      ]
     },
     "execution_count": 61,
     "metadata": {},
     "output_type": "execute_result"
    }
   ],
   "source": [
    "train[:,-1].flatten()"
   ]
  },
  {
   "cell_type": "code",
   "execution_count": 62,
   "id": "1c598215-43c0-4230-a44a-10bbe9c16fea",
   "metadata": {},
   "outputs": [],
   "source": [
    "x_train,y_train = train[:,:-1],train[:,-1]\n",
    "x_test,y_test = test[:,:-1],test[:,-1]"
   ]
  },
  {
   "cell_type": "code",
   "execution_count": 64,
   "id": "bb8f3e0b-2fcf-43a2-8871-b007b4661df2",
   "metadata": {},
   "outputs": [],
   "source": [
    "X = np.concatenate([x_train,np.ones((len(x_train),1))],axis=-1)"
   ]
  },
  {
   "cell_type": "code",
   "execution_count": 68,
   "id": "bec25cdd-31a5-4118-ac88-86f9a67ca47d",
   "metadata": {},
   "outputs": [
    {
     "data": {
      "text/plain": [
       "array([ 0.80952995, -0.71551591, -0.03989153,  0.42056418, -0.68067727])"
      ]
     },
     "execution_count": 68,
     "metadata": {},
     "output_type": "execute_result"
    }
   ],
   "source": [
    "x_train[0]"
   ]
  },
  {
   "cell_type": "code",
   "execution_count": 84,
   "id": "11330726-a89a-4ab5-b8dd-b4bf522440dc",
   "metadata": {},
   "outputs": [
    {
     "data": {
      "text/html": [
       "<div>\n",
       "<style scoped>\n",
       "    .dataframe tbody tr th:only-of-type {\n",
       "        vertical-align: middle;\n",
       "    }\n",
       "\n",
       "    .dataframe tbody tr th {\n",
       "        vertical-align: top;\n",
       "    }\n",
       "\n",
       "    .dataframe thead th {\n",
       "        text-align: right;\n",
       "    }\n",
       "</style>\n",
       "<table border=\"1\" class=\"dataframe\">\n",
       "  <thead>\n",
       "    <tr style=\"text-align: right;\">\n",
       "      <th></th>\n",
       "      <th>0</th>\n",
       "      <th>1</th>\n",
       "      <th>2</th>\n",
       "      <th>3</th>\n",
       "      <th>4</th>\n",
       "    </tr>\n",
       "  </thead>\n",
       "  <tbody>\n",
       "    <tr>\n",
       "      <th>0</th>\n",
       "      <td>0.809530</td>\n",
       "      <td>-0.715516</td>\n",
       "      <td>-0.039892</td>\n",
       "      <td>0.420564</td>\n",
       "      <td>-0.680677</td>\n",
       "    </tr>\n",
       "    <tr>\n",
       "      <th>1</th>\n",
       "      <td>0.121327</td>\n",
       "      <td>-0.997274</td>\n",
       "      <td>0.879764</td>\n",
       "      <td>-0.651195</td>\n",
       "      <td>-0.111203</td>\n",
       "    </tr>\n",
       "    <tr>\n",
       "      <th>2</th>\n",
       "      <td>-0.563043</td>\n",
       "      <td>-0.297421</td>\n",
       "      <td>-0.125633</td>\n",
       "      <td>0.217579</td>\n",
       "      <td>0.047100</td>\n",
       "    </tr>\n",
       "    <tr>\n",
       "      <th>3</th>\n",
       "      <td>-2.792246</td>\n",
       "      <td>1.006244</td>\n",
       "      <td>1.980547</td>\n",
       "      <td>0.201341</td>\n",
       "      <td>-1.090658</td>\n",
       "    </tr>\n",
       "    <tr>\n",
       "      <th>4</th>\n",
       "      <td>-0.190521</td>\n",
       "      <td>1.641201</td>\n",
       "      <td>0.096581</td>\n",
       "      <td>0.412445</td>\n",
       "      <td>0.101819</td>\n",
       "    </tr>\n",
       "  </tbody>\n",
       "</table>\n",
       "</div>"
      ],
      "text/plain": [
       "          0         1         2         3         4\n",
       "0  0.809530 -0.715516 -0.039892  0.420564 -0.680677\n",
       "1  0.121327 -0.997274  0.879764 -0.651195 -0.111203\n",
       "2 -0.563043 -0.297421 -0.125633  0.217579  0.047100\n",
       "3 -2.792246  1.006244  1.980547  0.201341 -1.090658\n",
       "4 -0.190521  1.641201  0.096581  0.412445  0.101819"
      ]
     },
     "execution_count": 84,
     "metadata": {},
     "output_type": "execute_result"
    }
   ],
   "source": [
    "pd.DataFrame(x_train).head()"
   ]
  },
  {
   "cell_type": "code",
   "execution_count": 66,
   "id": "2fd9a403-bb09-4b36-a001-7c45d6d084a1",
   "metadata": {},
   "outputs": [
    {
     "data": {
      "text/html": [
       "<div>\n",
       "<style scoped>\n",
       "    .dataframe tbody tr th:only-of-type {\n",
       "        vertical-align: middle;\n",
       "    }\n",
       "\n",
       "    .dataframe tbody tr th {\n",
       "        vertical-align: top;\n",
       "    }\n",
       "\n",
       "    .dataframe thead th {\n",
       "        text-align: right;\n",
       "    }\n",
       "</style>\n",
       "<table border=\"1\" class=\"dataframe\">\n",
       "  <thead>\n",
       "    <tr style=\"text-align: right;\">\n",
       "      <th></th>\n",
       "      <th>0</th>\n",
       "      <th>1</th>\n",
       "      <th>2</th>\n",
       "      <th>3</th>\n",
       "      <th>4</th>\n",
       "      <th>5</th>\n",
       "    </tr>\n",
       "  </thead>\n",
       "  <tbody>\n",
       "    <tr>\n",
       "      <th>0</th>\n",
       "      <td>0.809530</td>\n",
       "      <td>-0.715516</td>\n",
       "      <td>-0.039892</td>\n",
       "      <td>0.420564</td>\n",
       "      <td>-0.680677</td>\n",
       "      <td>1.0</td>\n",
       "    </tr>\n",
       "    <tr>\n",
       "      <th>1</th>\n",
       "      <td>0.121327</td>\n",
       "      <td>-0.997274</td>\n",
       "      <td>0.879764</td>\n",
       "      <td>-0.651195</td>\n",
       "      <td>-0.111203</td>\n",
       "      <td>1.0</td>\n",
       "    </tr>\n",
       "    <tr>\n",
       "      <th>2</th>\n",
       "      <td>-0.563043</td>\n",
       "      <td>-0.297421</td>\n",
       "      <td>-0.125633</td>\n",
       "      <td>0.217579</td>\n",
       "      <td>0.047100</td>\n",
       "      <td>1.0</td>\n",
       "    </tr>\n",
       "    <tr>\n",
       "      <th>3</th>\n",
       "      <td>-2.792246</td>\n",
       "      <td>1.006244</td>\n",
       "      <td>1.980547</td>\n",
       "      <td>0.201341</td>\n",
       "      <td>-1.090658</td>\n",
       "      <td>1.0</td>\n",
       "    </tr>\n",
       "    <tr>\n",
       "      <th>4</th>\n",
       "      <td>-0.190521</td>\n",
       "      <td>1.641201</td>\n",
       "      <td>0.096581</td>\n",
       "      <td>0.412445</td>\n",
       "      <td>0.101819</td>\n",
       "      <td>1.0</td>\n",
       "    </tr>\n",
       "  </tbody>\n",
       "</table>\n",
       "</div>"
      ],
      "text/plain": [
       "          0         1         2         3         4    5\n",
       "0  0.809530 -0.715516 -0.039892  0.420564 -0.680677  1.0\n",
       "1  0.121327 -0.997274  0.879764 -0.651195 -0.111203  1.0\n",
       "2 -0.563043 -0.297421 -0.125633  0.217579  0.047100  1.0\n",
       "3 -2.792246  1.006244  1.980547  0.201341 -1.090658  1.0\n",
       "4 -0.190521  1.641201  0.096581  0.412445  0.101819  1.0"
      ]
     },
     "execution_count": 66,
     "metadata": {},
     "output_type": "execute_result"
    }
   ],
   "source": [
    "pd.DataFrame(X).head()"
   ]
  },
  {
   "cell_type": "code",
   "execution_count": 78,
   "id": "1ec8e499-ff3b-48a3-8138-a04e6c866819",
   "metadata": {},
   "outputs": [
    {
     "data": {
      "text/plain": [
       "array([ 0.80952995,  0.12132748, -0.5630431 , ...,  0.08941268,\n",
       "       -2.63898855, -0.14639708])"
      ]
     },
     "execution_count": 78,
     "metadata": {},
     "output_type": "execute_result"
    }
   ],
   "source": [
    "X.T[0]"
   ]
  },
  {
   "cell_type": "code",
   "execution_count": 77,
   "id": "b36453c9-7ef5-4f13-9aa2-5d088ec710dc",
   "metadata": {},
   "outputs": [
    {
     "data": {
      "text/plain": [
       "array([ 0.80952995, -0.71551591, -0.03989153,  0.42056418, -0.68067727,\n",
       "        1.        ])"
      ]
     },
     "execution_count": 77,
     "metadata": {},
     "output_type": "execute_result"
    }
   ],
   "source": [
    "X[0]"
   ]
  },
  {
   "cell_type": "code",
   "execution_count": 69,
   "id": "a8ad02d3-a0c7-4093-9806-187c26701ede",
   "metadata": {},
   "outputs": [],
   "source": [
    "theta = np.linalg.inv(X.T @ X) @ X.T @ y_train"
   ]
  },
  {
   "cell_type": "code",
   "execution_count": 70,
   "id": "85d5edf0-3fab-47d5-a423-24c824847e8d",
   "metadata": {},
   "outputs": [
    {
     "data": {
      "text/plain": [
       "array([ 6.48840249e-01,  4.66795843e-01,  3.40888040e-01,  8.52130018e-03,\n",
       "        4.24951463e-01, -1.60496616e-14])"
      ]
     },
     "execution_count": 70,
     "metadata": {},
     "output_type": "execute_result"
    }
   ],
   "source": [
    "theta"
   ]
  },
  {
   "cell_type": "code",
   "execution_count": 79,
   "id": "5254bb3e-6f6c-48e2-b555-ef58381db686",
   "metadata": {},
   "outputs": [
    {
     "name": "stdout",
     "output_type": "stream",
     "text": [
      "回归系数: [ 6.48840249e-01  4.66795843e-01  3.40888040e-01  8.52130018e-03\n",
      "  4.24951463e-01 -1.60496616e-14]\n"
     ]
    }
   ],
   "source": [
    "print('回归系数:',theta)"
   ]
  },
  {
   "cell_type": "code",
   "execution_count": 80,
   "id": "70c78aff-4aad-4d04-9132-0a1011055780",
   "metadata": {},
   "outputs": [
    {
     "data": {
      "text/plain": [
       "array([4, 2, 0, 3, 1])"
      ]
     },
     "execution_count": 80,
     "metadata": {},
     "output_type": "execute_result"
    }
   ],
   "source": [
    "np.random.permutation(5) # "
   ]
  },
  {
   "cell_type": "code",
   "execution_count": 81,
   "id": "1db2c8db-8f0c-4e6b-9f65-98c1636e83d2",
   "metadata": {},
   "outputs": [
    {
     "data": {
      "text/plain": [
       "array([3, 0, 1, 2, 4])"
      ]
     },
     "execution_count": 81,
     "metadata": {},
     "output_type": "execute_result"
    }
   ],
   "source": [
    "np.random.permutation([i for i in range(5)])"
   ]
  },
  {
   "cell_type": "code",
   "execution_count": 83,
   "id": "9502b7d2-0577-4464-9b83-23cb24c61d78",
   "metadata": {},
   "outputs": [
    {
     "data": {
      "text/plain": [
       "\u001b[1;31mDocstring:\u001b[0m\n",
       "permutation(x)\n",
       "\n",
       "Randomly permute a sequence, or return a permuted range.\n",
       "\n",
       "If `x` is a multi-dimensional array, it is only shuffled along its\n",
       "first index.\n",
       "\n",
       ".. note::\n",
       "    New code should use the\n",
       "    `~numpy.random.Generator.permutation`\n",
       "    method of a `~numpy.random.Generator` instance instead;\n",
       "    please see the :ref:`random-quick-start`.\n",
       "\n",
       "Parameters\n",
       "----------\n",
       "x : int or array_like\n",
       "    If `x` is an integer, randomly permute ``np.arange(x)``.\n",
       "    If `x` is an array, make a copy and shuffle the elements\n",
       "    randomly.\n",
       "\n",
       "Returns\n",
       "-------\n",
       "out : ndarray\n",
       "    Permuted sequence or array range.\n",
       "\n",
       "See Also\n",
       "--------\n",
       "random.Generator.permutation: which should be used for new code.\n",
       "\n",
       "Examples\n",
       "--------\n",
       ">>> np.random.permutation(10)\n",
       "array([1, 7, 4, 3, 0, 9, 2, 5, 8, 6]) # random\n",
       "\n",
       ">>> np.random.permutation([1, 4, 9, 12, 15])\n",
       "array([15,  1,  9,  4, 12]) # random\n",
       "\n",
       ">>> arr = np.arange(9).reshape((3, 3))\n",
       ">>> np.random.permutation(arr)\n",
       "array([[6, 7, 8], # random\n",
       "       [0, 1, 2],\n",
       "       [3, 4, 5]])\n",
       "\u001b[1;31mType:\u001b[0m      builtin_function_or_method\n"
      ]
     },
     "metadata": {},
     "output_type": "display_data"
    }
   ],
   "source": [
    "np.random.permutation??"
   ]
  },
  {
   "cell_type": "code",
   "execution_count": 85,
   "id": "fbb7ec1f-e725-4d72-bdb4-fa93a0def3e0",
   "metadata": {},
   "outputs": [
    {
     "data": {
      "text/plain": [
       "(6,)"
      ]
     },
     "execution_count": 85,
     "metadata": {},
     "output_type": "execute_result"
    }
   ],
   "source": [
    "theta.shape"
   ]
  },
  {
   "cell_type": "code",
   "execution_count": 103,
   "id": "d2eb6871-556c-4447-b931-ff7414c05bcf",
   "metadata": {},
   "outputs": [
    {
     "name": "stdout",
     "output_type": "stream",
     "text": [
      "[ 6.48840249e-01  4.66795843e-01  3.40888040e-01  8.52130018e-03\n",
      "  4.24951463e-01 -1.60496616e-14]\n",
      "RMSE： 0.2789378697880506\n"
     ]
    }
   ],
   "source": [
    "# 在测试集上使用回归系数进行预测\n",
    "X_test = np.concatenate([x_test, np.ones((len(x_test), 1))], axis=-1)\n",
    "y_pred = X_test @ theta\n",
    "print(theta)\n",
    "\n",
    "# 计算预测值和真实值之间的RMSE\n",
    "rmse_loss = np.sqrt(np.square(y_test - y_pred).mean())\n",
    "print('RMSE：', rmse_loss)"
   ]
  },
  {
   "cell_type": "code",
   "execution_count": 102,
   "id": "f2cd89a8-1049-410b-a839-3a6927027c1a",
   "metadata": {},
   "outputs": [
    {
     "name": "stdout",
     "output_type": "stream",
     "text": [
      "回归系数： [0.64884025 0.46679584 0.34088804 0.0085213  0.42495146] -1.6050849150851666e-14\n",
      "RMSE： 0.2789378697880506\n"
     ]
    }
   ],
   "source": [
    "from sklearn.linear_model import LinearRegression\n",
    "\n",
    "# 初始化线性模型\n",
    "linreg = LinearRegression()\n",
    "# LinearRegression的方法中已经考虑了线性回归的常数项，所以无须再拼接1\n",
    "linreg.fit(x_train, y_train)\n",
    "\n",
    "# coef_是训练得到的回归系数，intercept_是常数项\n",
    "print('回归系数：', linreg.coef_, linreg.intercept_)\n",
    "y_pred = linreg.predict(x_test)\n",
    "\n",
    "# 计算预测值和真实值之间的RMSE\n",
    "rmse_loss = np.sqrt(np.square(y_test - y_pred).mean())\n",
    "print('RMSE：', rmse_loss)"
   ]
  },
  {
   "cell_type": "code",
   "execution_count": 101,
   "id": "6522234d-5fd3-4549-8e76-6e2541ffb527",
   "metadata": {},
   "outputs": [],
   "source": []
  },
  {
   "cell_type": "code",
   "execution_count": null,
   "id": "78cfe4b5-7479-4d23-97de-e16f23a16ac3",
   "metadata": {},
   "outputs": [],
   "source": []
  }
 ],
 "metadata": {
  "kernelspec": {
   "display_name": "Python 3 (ipykernel)",
   "language": "python",
   "name": "python3"
  },
  "language_info": {
   "codemirror_mode": {
    "name": "ipython",
    "version": 3
   },
   "file_extension": ".py",
   "mimetype": "text/x-python",
   "name": "python",
   "nbconvert_exporter": "python",
   "pygments_lexer": "ipython3",
   "version": "3.9.5"
  }
 },
 "nbformat": 4,
 "nbformat_minor": 5
}
